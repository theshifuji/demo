{
  "nbformat": 4,
  "nbformat_minor": 0,
  "metadata": {
    "colab": {
      "provenance": [],
      "include_colab_link": true
    },
    "kernelspec": {
      "name": "python3",
      "display_name": "Python 3"
    },
    "language_info": {
      "name": "python"
    }
  },
  "cells": [
    {
      "cell_type": "markdown",
      "metadata": {
        "id": "view-in-github",
        "colab_type": "text"
      },
      "source": [
        "<a href=\"https://colab.research.google.com/github/theshifuji/demo/blob/main/Copy_of_Web_Scraping_using_Python_Assignment.ipynb\" target=\"_parent\"><img src=\"https://colab.research.google.com/assets/colab-badge.svg\" alt=\"Open In Colab\"/></a>"
      ]
    },
    {
      "cell_type": "code",
      "source": [
        "from bs4 import BeautifulSoup\n",
        "import requests\n",
        "import re\n",
        "import pandas as pd"
      ],
      "metadata": {
        "id": "soAPgrMcBtPo"
      },
      "execution_count": null,
      "outputs": []
    },
    {
      "cell_type": "markdown",
      "source": [
        "## 🎉 Hi there! Welcome to today's assignment on Web Scraping in Python!\n",
        "\n",
        "Are you ready to put your skills to the test? Let's dive right in! 💪📚\n",
        "\n",
        "In this assignment, you will be working with scraping websites using Python . Don't worry if you're feeling a bit unsure - you got this! 🤞\n",
        "\n",
        "Good luck! 🍀🚀"
      ],
      "metadata": {
        "id": "PbcfdTFasOaB"
      }
    },
    {
      "cell_type": "markdown",
      "source": [
        "## **Activity 1:**\n"
      ],
      "metadata": {
        "id": "p9-TaYhCEUi3"
      }
    },
    {
      "cell_type": "markdown",
      "source": [
        "### **GitHub trending repos:**\n",
        "\n",
        "You are tasked to scrape the top 10 trending repositories of Python on GitHub (https://github.com/trending/python?since=daily). Perform the following actions based on the data:\n",
        "\n",
        "1. Retrieve the name of the repository, the username of the owner, and the URL of the repository.\n",
        "2. Store the information in a CSV file named \"python_trending_repos.csv\".\n",
        "3. Print the information in a tabular format using the PrettyTable library."
      ],
      "metadata": {
        "id": "2c5F4UF8OkaW"
      }
    },
    {
      "cell_type": "code",
      "source": [
        "url = 'https://github.com/trending/python?since=daily'\n",
        "response = requests.get(url)\n",
        "print(response.text)"
      ],
      "metadata": {
        "id": "ZRNtvd_sDTja"
      },
      "execution_count": null,
      "outputs": []
    },
    {
      "cell_type": "code",
      "source": [
        "soup = BeautifulSoup(response.text, \"html.parser\")"
      ],
      "metadata": {
        "id": "ibKNEaBInIJ4"
      },
      "execution_count": null,
      "outputs": []
    },
    {
      "cell_type": "code",
      "source": [
        "s = soup.find_all(\"h2\", attrs = {\"class\":\"h3 lh-condensed\"})\n",
        "s[1].text.replace(\"\\n\",\"\").strip()"
      ],
      "metadata": {
        "colab": {
          "base_uri": "https://localhost:8080/",
          "height": 36
        },
        "id": "nn1pyyxqnMAC",
        "outputId": "68695885-0e7c-4576-8077-82ac2b67d10a"
      },
      "execution_count": null,
      "outputs": [
        {
          "output_type": "execute_result",
          "data": {
            "text/plain": [
              "'public-apis /      public-apis'"
            ],
            "application/vnd.google.colaboratory.intrinsic+json": {
              "type": "string"
            }
          },
          "metadata": {},
          "execution_count": 5
        }
      ]
    },
    {
      "cell_type": "code",
      "source": [
        "s[0].find(\"a\").get('href')"
      ],
      "metadata": {
        "colab": {
          "base_uri": "https://localhost:8080/",
          "height": 35
        },
        "id": "wqO4pyKDsv3_",
        "outputId": "afa0442d-8f1c-480c-e262-56617ce39ad9"
      },
      "execution_count": null,
      "outputs": [
        {
          "output_type": "execute_result",
          "data": {
            "text/plain": [
              "'/CASIA-IVA-Lab/FastSAM'"
            ],
            "application/vnd.google.colaboratory.intrinsic+json": {
              "type": "string"
            }
          },
          "metadata": {},
          "execution_count": 247
        }
      ]
    },
    {
      "cell_type": "code",
      "source": [
        "lst = []\n",
        "for i in s:\n",
        "  lst.append({\"Owner/Repo Name\": i.text.replace(\"\\n\",\"\").strip() , \"URL\" : \"https://github.com\" + i.find(\"a\").get('href')})\n",
        "print(lst)"
      ],
      "metadata": {
        "colab": {
          "base_uri": "https://localhost:8080/"
        },
        "id": "Vtkv5mw0ufeX",
        "outputId": "1d02bd1b-f509-4f2a-df6e-ed37d4d299f1"
      },
      "execution_count": null,
      "outputs": [
        {
          "output_type": "stream",
          "name": "stdout",
          "text": [
            "[{'Owner/Repo Name': '0xpayne /      gpt-migrate', 'URL': 'https://github.com/0xpayne/gpt-migrate'}, {'Owner/Repo Name': 'public-apis /      public-apis', 'URL': 'https://github.com/public-apis/public-apis'}, {'Owner/Repo Name': 'geekan /      MetaGPT', 'URL': 'https://github.com/geekan/MetaGPT'}, {'Owner/Repo Name': 'paul-gauthier /      aider', 'URL': 'https://github.com/paul-gauthier/aider'}, {'Owner/Repo Name': 'geohot /      tinygrad', 'URL': 'https://github.com/geohot/tinygrad'}, {'Owner/Repo Name': 'w-okada /      voice-changer', 'URL': 'https://github.com/w-okada/voice-changer'}, {'Owner/Repo Name': 'AUTOMATIC1111 /      stable-diffusion-webui', 'URL': 'https://github.com/AUTOMATIC1111/stable-diffusion-webui'}, {'Owner/Repo Name': 'PromtEngineer /      localGPT', 'URL': 'https://github.com/PromtEngineer/localGPT'}, {'Owner/Repo Name': 'ArchiveBox /      ArchiveBox', 'URL': 'https://github.com/ArchiveBox/ArchiveBox'}, {'Owner/Repo Name': 'dbeley /      awesome-lemmy', 'URL': 'https://github.com/dbeley/awesome-lemmy'}, {'Owner/Repo Name': 'Octoberfest7 /      TeamsPhisher', 'URL': 'https://github.com/Octoberfest7/TeamsPhisher'}, {'Owner/Repo Name': 'linyiLYi /      snake-ai', 'URL': 'https://github.com/linyiLYi/snake-ai'}, {'Owner/Repo Name': 'shikras /      shikra', 'URL': 'https://github.com/shikras/shikra'}, {'Owner/Repo Name': 'lllyasviel /      ControlNet', 'URL': 'https://github.com/lllyasviel/ControlNet'}, {'Owner/Repo Name': 'ageitgey /      face_recognition', 'URL': 'https://github.com/ageitgey/face_recognition'}, {'Owner/Repo Name': '0hq /      tinyvector', 'URL': 'https://github.com/0hq/tinyvector'}, {'Owner/Repo Name': 'OpenBMB /      VisCPM', 'URL': 'https://github.com/OpenBMB/VisCPM'}, {'Owner/Repo Name': 'AlanChen4 /      Summer-2024-SWE-Internships', 'URL': 'https://github.com/AlanChen4/Summer-2024-SWE-Internships'}, {'Owner/Repo Name': 'abacaj /      code-eval', 'URL': 'https://github.com/abacaj/code-eval'}, {'Owner/Repo Name': 'mikel-brostrom /      yolo_tracking', 'URL': 'https://github.com/mikel-brostrom/yolo_tracking'}, {'Owner/Repo Name': 'Azure-Samples /      jp-azureopenai-samples', 'URL': 'https://github.com/Azure-Samples/jp-azureopenai-samples'}, {'Owner/Repo Name': 'huggingface /      diffusers', 'URL': 'https://github.com/huggingface/diffusers'}, {'Owner/Repo Name': 'yongjiu8 /      WeiXinDragonBoatGame', 'URL': 'https://github.com/yongjiu8/WeiXinDragonBoatGame'}, {'Owner/Repo Name': 'pgadmin-org /      pgadmin4', 'URL': 'https://github.com/pgadmin-org/pgadmin4'}, {'Owner/Repo Name': 'tiangolo /      fastapi', 'URL': 'https://github.com/tiangolo/fastapi'}]\n"
          ]
        }
      ]
    },
    {
      "cell_type": "code",
      "source": [
        "df = pd.DataFrame(lst)"
      ],
      "metadata": {
        "id": "7yboqxFvvBZI"
      },
      "execution_count": null,
      "outputs": []
    },
    {
      "cell_type": "code",
      "source": [
        "df"
      ],
      "metadata": {
        "colab": {
          "base_uri": "https://localhost:8080/",
          "height": 894
        },
        "id": "x5pAwT61vG28",
        "outputId": "db222657-79c0-471a-f2a4-b7450607cd43"
      },
      "execution_count": null,
      "outputs": [
        {
          "output_type": "execute_result",
          "data": {
            "text/plain": [
              "                                 Owner/Repo Name  \\\n",
              "0                     0xpayne /      gpt-migrate   \n",
              "1                 public-apis /      public-apis   \n",
              "2                          geekan /      MetaGPT   \n",
              "3                     paul-gauthier /      aider   \n",
              "4                         geohot /      tinygrad   \n",
              "5                   w-okada /      voice-changer   \n",
              "6    AUTOMATIC1111 /      stable-diffusion-webui   \n",
              "7                  PromtEngineer /      localGPT   \n",
              "8                   ArchiveBox /      ArchiveBox   \n",
              "9                    dbeley /      awesome-lemmy   \n",
              "10              Octoberfest7 /      TeamsPhisher   \n",
              "11                      linyiLYi /      snake-ai   \n",
              "12                         shikras /      shikra   \n",
              "13                  lllyasviel /      ControlNet   \n",
              "14              ageitgey /      face_recognition   \n",
              "15                         0hq /      tinyvector   \n",
              "16                         OpenBMB /      VisCPM   \n",
              "17  AlanChen4 /      Summer-2024-SWE-Internships   \n",
              "18                       abacaj /      code-eval   \n",
              "19           mikel-brostrom /      yolo_tracking   \n",
              "20   Azure-Samples /      jp-azureopenai-samples   \n",
              "21                  huggingface /      diffusers   \n",
              "22          yongjiu8 /      WeiXinDragonBoatGame   \n",
              "23                   pgadmin-org /      pgadmin4   \n",
              "24                       tiangolo /      fastapi   \n",
              "\n",
              "                                                  URL  \n",
              "0              https://github.com/0xpayne/gpt-migrate  \n",
              "1          https://github.com/public-apis/public-apis  \n",
              "2                   https://github.com/geekan/MetaGPT  \n",
              "3              https://github.com/paul-gauthier/aider  \n",
              "4                  https://github.com/geohot/tinygrad  \n",
              "5            https://github.com/w-okada/voice-changer  \n",
              "6   https://github.com/AUTOMATIC1111/stable-diffus...  \n",
              "7           https://github.com/PromtEngineer/localGPT  \n",
              "8            https://github.com/ArchiveBox/ArchiveBox  \n",
              "9             https://github.com/dbeley/awesome-lemmy  \n",
              "10       https://github.com/Octoberfest7/TeamsPhisher  \n",
              "11               https://github.com/linyiLYi/snake-ai  \n",
              "12                  https://github.com/shikras/shikra  \n",
              "13           https://github.com/lllyasviel/ControlNet  \n",
              "14       https://github.com/ageitgey/face_recognition  \n",
              "15                  https://github.com/0hq/tinyvector  \n",
              "16                  https://github.com/OpenBMB/VisCPM  \n",
              "17  https://github.com/AlanChen4/Summer-2024-SWE-I...  \n",
              "18                https://github.com/abacaj/code-eval  \n",
              "19    https://github.com/mikel-brostrom/yolo_tracking  \n",
              "20  https://github.com/Azure-Samples/jp-azureopena...  \n",
              "21           https://github.com/huggingface/diffusers  \n",
              "22   https://github.com/yongjiu8/WeiXinDragonBoatGame  \n",
              "23            https://github.com/pgadmin-org/pgadmin4  \n",
              "24                https://github.com/tiangolo/fastapi  "
            ],
            "text/html": [
              "\n",
              "  <div id=\"df-bd5165cc-b21e-454f-a48f-53d43b7b3e48\">\n",
              "    <div class=\"colab-df-container\">\n",
              "      <div>\n",
              "<style scoped>\n",
              "    .dataframe tbody tr th:only-of-type {\n",
              "        vertical-align: middle;\n",
              "    }\n",
              "\n",
              "    .dataframe tbody tr th {\n",
              "        vertical-align: top;\n",
              "    }\n",
              "\n",
              "    .dataframe thead th {\n",
              "        text-align: right;\n",
              "    }\n",
              "</style>\n",
              "<table border=\"1\" class=\"dataframe\">\n",
              "  <thead>\n",
              "    <tr style=\"text-align: right;\">\n",
              "      <th></th>\n",
              "      <th>Owner/Repo Name</th>\n",
              "      <th>URL</th>\n",
              "    </tr>\n",
              "  </thead>\n",
              "  <tbody>\n",
              "    <tr>\n",
              "      <th>0</th>\n",
              "      <td>0xpayne /      gpt-migrate</td>\n",
              "      <td>https://github.com/0xpayne/gpt-migrate</td>\n",
              "    </tr>\n",
              "    <tr>\n",
              "      <th>1</th>\n",
              "      <td>public-apis /      public-apis</td>\n",
              "      <td>https://github.com/public-apis/public-apis</td>\n",
              "    </tr>\n",
              "    <tr>\n",
              "      <th>2</th>\n",
              "      <td>geekan /      MetaGPT</td>\n",
              "      <td>https://github.com/geekan/MetaGPT</td>\n",
              "    </tr>\n",
              "    <tr>\n",
              "      <th>3</th>\n",
              "      <td>paul-gauthier /      aider</td>\n",
              "      <td>https://github.com/paul-gauthier/aider</td>\n",
              "    </tr>\n",
              "    <tr>\n",
              "      <th>4</th>\n",
              "      <td>geohot /      tinygrad</td>\n",
              "      <td>https://github.com/geohot/tinygrad</td>\n",
              "    </tr>\n",
              "    <tr>\n",
              "      <th>5</th>\n",
              "      <td>w-okada /      voice-changer</td>\n",
              "      <td>https://github.com/w-okada/voice-changer</td>\n",
              "    </tr>\n",
              "    <tr>\n",
              "      <th>6</th>\n",
              "      <td>AUTOMATIC1111 /      stable-diffusion-webui</td>\n",
              "      <td>https://github.com/AUTOMATIC1111/stable-diffus...</td>\n",
              "    </tr>\n",
              "    <tr>\n",
              "      <th>7</th>\n",
              "      <td>PromtEngineer /      localGPT</td>\n",
              "      <td>https://github.com/PromtEngineer/localGPT</td>\n",
              "    </tr>\n",
              "    <tr>\n",
              "      <th>8</th>\n",
              "      <td>ArchiveBox /      ArchiveBox</td>\n",
              "      <td>https://github.com/ArchiveBox/ArchiveBox</td>\n",
              "    </tr>\n",
              "    <tr>\n",
              "      <th>9</th>\n",
              "      <td>dbeley /      awesome-lemmy</td>\n",
              "      <td>https://github.com/dbeley/awesome-lemmy</td>\n",
              "    </tr>\n",
              "    <tr>\n",
              "      <th>10</th>\n",
              "      <td>Octoberfest7 /      TeamsPhisher</td>\n",
              "      <td>https://github.com/Octoberfest7/TeamsPhisher</td>\n",
              "    </tr>\n",
              "    <tr>\n",
              "      <th>11</th>\n",
              "      <td>linyiLYi /      snake-ai</td>\n",
              "      <td>https://github.com/linyiLYi/snake-ai</td>\n",
              "    </tr>\n",
              "    <tr>\n",
              "      <th>12</th>\n",
              "      <td>shikras /      shikra</td>\n",
              "      <td>https://github.com/shikras/shikra</td>\n",
              "    </tr>\n",
              "    <tr>\n",
              "      <th>13</th>\n",
              "      <td>lllyasviel /      ControlNet</td>\n",
              "      <td>https://github.com/lllyasviel/ControlNet</td>\n",
              "    </tr>\n",
              "    <tr>\n",
              "      <th>14</th>\n",
              "      <td>ageitgey /      face_recognition</td>\n",
              "      <td>https://github.com/ageitgey/face_recognition</td>\n",
              "    </tr>\n",
              "    <tr>\n",
              "      <th>15</th>\n",
              "      <td>0hq /      tinyvector</td>\n",
              "      <td>https://github.com/0hq/tinyvector</td>\n",
              "    </tr>\n",
              "    <tr>\n",
              "      <th>16</th>\n",
              "      <td>OpenBMB /      VisCPM</td>\n",
              "      <td>https://github.com/OpenBMB/VisCPM</td>\n",
              "    </tr>\n",
              "    <tr>\n",
              "      <th>17</th>\n",
              "      <td>AlanChen4 /      Summer-2024-SWE-Internships</td>\n",
              "      <td>https://github.com/AlanChen4/Summer-2024-SWE-I...</td>\n",
              "    </tr>\n",
              "    <tr>\n",
              "      <th>18</th>\n",
              "      <td>abacaj /      code-eval</td>\n",
              "      <td>https://github.com/abacaj/code-eval</td>\n",
              "    </tr>\n",
              "    <tr>\n",
              "      <th>19</th>\n",
              "      <td>mikel-brostrom /      yolo_tracking</td>\n",
              "      <td>https://github.com/mikel-brostrom/yolo_tracking</td>\n",
              "    </tr>\n",
              "    <tr>\n",
              "      <th>20</th>\n",
              "      <td>Azure-Samples /      jp-azureopenai-samples</td>\n",
              "      <td>https://github.com/Azure-Samples/jp-azureopena...</td>\n",
              "    </tr>\n",
              "    <tr>\n",
              "      <th>21</th>\n",
              "      <td>huggingface /      diffusers</td>\n",
              "      <td>https://github.com/huggingface/diffusers</td>\n",
              "    </tr>\n",
              "    <tr>\n",
              "      <th>22</th>\n",
              "      <td>yongjiu8 /      WeiXinDragonBoatGame</td>\n",
              "      <td>https://github.com/yongjiu8/WeiXinDragonBoatGame</td>\n",
              "    </tr>\n",
              "    <tr>\n",
              "      <th>23</th>\n",
              "      <td>pgadmin-org /      pgadmin4</td>\n",
              "      <td>https://github.com/pgadmin-org/pgadmin4</td>\n",
              "    </tr>\n",
              "    <tr>\n",
              "      <th>24</th>\n",
              "      <td>tiangolo /      fastapi</td>\n",
              "      <td>https://github.com/tiangolo/fastapi</td>\n",
              "    </tr>\n",
              "  </tbody>\n",
              "</table>\n",
              "</div>\n",
              "      <button class=\"colab-df-convert\" onclick=\"convertToInteractive('df-bd5165cc-b21e-454f-a48f-53d43b7b3e48')\"\n",
              "              title=\"Convert this dataframe to an interactive table.\"\n",
              "              style=\"display:none;\">\n",
              "        \n",
              "  <svg xmlns=\"http://www.w3.org/2000/svg\" height=\"24px\"viewBox=\"0 0 24 24\"\n",
              "       width=\"24px\">\n",
              "    <path d=\"M0 0h24v24H0V0z\" fill=\"none\"/>\n",
              "    <path d=\"M18.56 5.44l.94 2.06.94-2.06 2.06-.94-2.06-.94-.94-2.06-.94 2.06-2.06.94zm-11 1L8.5 8.5l.94-2.06 2.06-.94-2.06-.94L8.5 2.5l-.94 2.06-2.06.94zm10 10l.94 2.06.94-2.06 2.06-.94-2.06-.94-.94-2.06-.94 2.06-2.06.94z\"/><path d=\"M17.41 7.96l-1.37-1.37c-.4-.4-.92-.59-1.43-.59-.52 0-1.04.2-1.43.59L10.3 9.45l-7.72 7.72c-.78.78-.78 2.05 0 2.83L4 21.41c.39.39.9.59 1.41.59.51 0 1.02-.2 1.41-.59l7.78-7.78 2.81-2.81c.8-.78.8-2.07 0-2.86zM5.41 20L4 18.59l7.72-7.72 1.47 1.35L5.41 20z\"/>\n",
              "  </svg>\n",
              "      </button>\n",
              "      \n",
              "  <style>\n",
              "    .colab-df-container {\n",
              "      display:flex;\n",
              "      flex-wrap:wrap;\n",
              "      gap: 12px;\n",
              "    }\n",
              "\n",
              "    .colab-df-convert {\n",
              "      background-color: #E8F0FE;\n",
              "      border: none;\n",
              "      border-radius: 50%;\n",
              "      cursor: pointer;\n",
              "      display: none;\n",
              "      fill: #1967D2;\n",
              "      height: 32px;\n",
              "      padding: 0 0 0 0;\n",
              "      width: 32px;\n",
              "    }\n",
              "\n",
              "    .colab-df-convert:hover {\n",
              "      background-color: #E2EBFA;\n",
              "      box-shadow: 0px 1px 2px rgba(60, 64, 67, 0.3), 0px 1px 3px 1px rgba(60, 64, 67, 0.15);\n",
              "      fill: #174EA6;\n",
              "    }\n",
              "\n",
              "    [theme=dark] .colab-df-convert {\n",
              "      background-color: #3B4455;\n",
              "      fill: #D2E3FC;\n",
              "    }\n",
              "\n",
              "    [theme=dark] .colab-df-convert:hover {\n",
              "      background-color: #434B5C;\n",
              "      box-shadow: 0px 1px 3px 1px rgba(0, 0, 0, 0.15);\n",
              "      filter: drop-shadow(0px 1px 2px rgba(0, 0, 0, 0.3));\n",
              "      fill: #FFFFFF;\n",
              "    }\n",
              "  </style>\n",
              "\n",
              "      <script>\n",
              "        const buttonEl =\n",
              "          document.querySelector('#df-bd5165cc-b21e-454f-a48f-53d43b7b3e48 button.colab-df-convert');\n",
              "        buttonEl.style.display =\n",
              "          google.colab.kernel.accessAllowed ? 'block' : 'none';\n",
              "\n",
              "        async function convertToInteractive(key) {\n",
              "          const element = document.querySelector('#df-bd5165cc-b21e-454f-a48f-53d43b7b3e48');\n",
              "          const dataTable =\n",
              "            await google.colab.kernel.invokeFunction('convertToInteractive',\n",
              "                                                     [key], {});\n",
              "          if (!dataTable) return;\n",
              "\n",
              "          const docLinkHtml = 'Like what you see? Visit the ' +\n",
              "            '<a target=\"_blank\" href=https://colab.research.google.com/notebooks/data_table.ipynb>data table notebook</a>'\n",
              "            + ' to learn more about interactive tables.';\n",
              "          element.innerHTML = '';\n",
              "          dataTable['output_type'] = 'display_data';\n",
              "          await google.colab.output.renderOutput(dataTable, element);\n",
              "          const docLink = document.createElement('div');\n",
              "          docLink.innerHTML = docLinkHtml;\n",
              "          element.appendChild(docLink);\n",
              "        }\n",
              "      </script>\n",
              "    </div>\n",
              "  </div>\n",
              "  "
            ]
          },
          "metadata": {},
          "execution_count": 9
        }
      ]
    },
    {
      "cell_type": "markdown",
      "source": [
        "## **Activity 2:**\n",
        "\n"
      ],
      "metadata": {
        "id": "sUiIdPfcCfQI"
      }
    },
    {
      "cell_type": "markdown",
      "source": [
        "### **IMDB Movies:**\n",
        "\n",
        "Your task is to scrape the top 10 movies currently playing in theaters in the United States from the website https://www.imdb.com/chart/top/.\n",
        "\n",
        "Perform the following actions based on the data:\n",
        "\n",
        "1. Extract movie titles: Extract the title of each movie and store it in a list.\n",
        "\n",
        "2. Extract movie release year: Extract the release year of each movie and store it in a separate list.\n",
        "\n",
        "3. Extract movie ratings: Extract the rating of each movie and store it in a separate list.\n",
        "\n",
        "4. Export the data: Export the extracted data into a CSV file named \"top_movies.csv\"."
      ],
      "metadata": {
        "id": "VqNrLWBOOohX"
      }
    },
    {
      "cell_type": "code",
      "source": [
        "# Downloading imdb top 250 movie's data\n",
        "url = 'http://www.imdb.com/chart/top'\n",
        "response = requests.get(url)"
      ],
      "metadata": {
        "id": "l5DUlzO9qBBL"
      },
      "execution_count": null,
      "outputs": []
    },
    {
      "cell_type": "code",
      "source": [
        "print(response.text)"
      ],
      "metadata": {
        "id": "ESqczinhqGBl",
        "colab": {
          "base_uri": "https://localhost:8080/"
        },
        "outputId": "93bf62a0-8118-4c5e-ef76-203cc36df779"
      },
      "execution_count": null,
      "outputs": [
        {
          "output_type": "stream",
          "name": "stdout",
          "text": [
            "<html>\r\n",
            "<head><title>403 Forbidden</title></head>\r\n",
            "<body>\r\n",
            "<center><h1>403 Forbidden</h1></center>\r\n",
            "</body>\r\n",
            "</html>\r\n",
            "\n"
          ]
        }
      ]
    },
    {
      "cell_type": "code",
      "source": [
        "soup = BeautifulSoup(response.text, \"html.parser\")\n",
        "all_movies = soup.select('td.titleColumn')"
      ],
      "metadata": {
        "id": "AoiPUZ6hqgk9"
      },
      "execution_count": null,
      "outputs": []
    },
    {
      "cell_type": "code",
      "source": [
        "title = [a.text for a in soup.select('td.titleColumn a')]\n",
        "year = [s.text for s in soup.select('td.titleColumn span')]\n",
        "rating = [r.text for r in soup.select('td.ratingColumn strong')]"
      ],
      "metadata": {
        "id": "QBdtvjLhr2GM"
      },
      "execution_count": null,
      "outputs": []
    },
    {
      "cell_type": "code",
      "source": [
        "lst = []\n",
        "for i in range(10):\n",
        "  lst.append({'Movie': title[i], 'Year': year[i], 'Rating': rating[i]})\n",
        "print(lst)"
      ],
      "metadata": {
        "colab": {
          "base_uri": "https://localhost:8080/"
        },
        "id": "IELczqQNtkAd",
        "outputId": "30d719b7-0dda-4d46-9379-0889fbb267bd"
      },
      "execution_count": null,
      "outputs": [
        {
          "output_type": "stream",
          "name": "stdout",
          "text": [
            "[{'Movie': 'The Shawshank Redemption', 'Year': '(1994)', 'Rating': '9.2'}, {'Movie': 'The Godfather', 'Year': '(1972)', 'Rating': '9.2'}, {'Movie': 'The Dark Knight', 'Year': '(2008)', 'Rating': '9.0'}, {'Movie': 'The Godfather Part II', 'Year': '(1974)', 'Rating': '9.0'}, {'Movie': '12 Angry Men', 'Year': '(1957)', 'Rating': '9.0'}, {'Movie': \"Schindler's List\", 'Year': '(1993)', 'Rating': '8.9'}, {'Movie': 'The Lord of the Rings: The Return of the King', 'Year': '(2003)', 'Rating': '8.9'}, {'Movie': 'Pulp Fiction', 'Year': '(1994)', 'Rating': '8.8'}, {'Movie': 'The Lord of the Rings: The Fellowship of the Ring', 'Year': '(2001)', 'Rating': '8.8'}, {'Movie': 'The Good, the Bad and the Ugly', 'Year': '(1966)', 'Rating': '8.8'}]\n"
          ]
        }
      ]
    },
    {
      "cell_type": "code",
      "source": [
        "df = pd.DataFrame(lst)\n",
        "df"
      ],
      "metadata": {
        "colab": {
          "base_uri": "https://localhost:8080/",
          "height": 363
        },
        "id": "pY4UzMMjxJrk",
        "outputId": "d00dec45-36e6-4b28-cc22-0c14777110fc"
      },
      "execution_count": null,
      "outputs": [
        {
          "output_type": "execute_result",
          "data": {
            "text/plain": [
              "                                               Movie    Year Rating\n",
              "0                           The Shawshank Redemption  (1994)    9.2\n",
              "1                                      The Godfather  (1972)    9.2\n",
              "2                                    The Dark Knight  (2008)    9.0\n",
              "3                              The Godfather Part II  (1974)    9.0\n",
              "4                                       12 Angry Men  (1957)    9.0\n",
              "5                                   Schindler's List  (1993)    8.9\n",
              "6      The Lord of the Rings: The Return of the King  (2003)    8.9\n",
              "7                                       Pulp Fiction  (1994)    8.8\n",
              "8  The Lord of the Rings: The Fellowship of the Ring  (2001)    8.8\n",
              "9                     The Good, the Bad and the Ugly  (1966)    8.8"
            ],
            "text/html": [
              "\n",
              "  <div id=\"df-11a7fc7f-a733-4639-b21a-bf397809d11a\">\n",
              "    <div class=\"colab-df-container\">\n",
              "      <div>\n",
              "<style scoped>\n",
              "    .dataframe tbody tr th:only-of-type {\n",
              "        vertical-align: middle;\n",
              "    }\n",
              "\n",
              "    .dataframe tbody tr th {\n",
              "        vertical-align: top;\n",
              "    }\n",
              "\n",
              "    .dataframe thead th {\n",
              "        text-align: right;\n",
              "    }\n",
              "</style>\n",
              "<table border=\"1\" class=\"dataframe\">\n",
              "  <thead>\n",
              "    <tr style=\"text-align: right;\">\n",
              "      <th></th>\n",
              "      <th>Movie</th>\n",
              "      <th>Year</th>\n",
              "      <th>Rating</th>\n",
              "    </tr>\n",
              "  </thead>\n",
              "  <tbody>\n",
              "    <tr>\n",
              "      <th>0</th>\n",
              "      <td>The Shawshank Redemption</td>\n",
              "      <td>(1994)</td>\n",
              "      <td>9.2</td>\n",
              "    </tr>\n",
              "    <tr>\n",
              "      <th>1</th>\n",
              "      <td>The Godfather</td>\n",
              "      <td>(1972)</td>\n",
              "      <td>9.2</td>\n",
              "    </tr>\n",
              "    <tr>\n",
              "      <th>2</th>\n",
              "      <td>The Dark Knight</td>\n",
              "      <td>(2008)</td>\n",
              "      <td>9.0</td>\n",
              "    </tr>\n",
              "    <tr>\n",
              "      <th>3</th>\n",
              "      <td>The Godfather Part II</td>\n",
              "      <td>(1974)</td>\n",
              "      <td>9.0</td>\n",
              "    </tr>\n",
              "    <tr>\n",
              "      <th>4</th>\n",
              "      <td>12 Angry Men</td>\n",
              "      <td>(1957)</td>\n",
              "      <td>9.0</td>\n",
              "    </tr>\n",
              "    <tr>\n",
              "      <th>5</th>\n",
              "      <td>Schindler's List</td>\n",
              "      <td>(1993)</td>\n",
              "      <td>8.9</td>\n",
              "    </tr>\n",
              "    <tr>\n",
              "      <th>6</th>\n",
              "      <td>The Lord of the Rings: The Return of the King</td>\n",
              "      <td>(2003)</td>\n",
              "      <td>8.9</td>\n",
              "    </tr>\n",
              "    <tr>\n",
              "      <th>7</th>\n",
              "      <td>Pulp Fiction</td>\n",
              "      <td>(1994)</td>\n",
              "      <td>8.8</td>\n",
              "    </tr>\n",
              "    <tr>\n",
              "      <th>8</th>\n",
              "      <td>The Lord of the Rings: The Fellowship of the Ring</td>\n",
              "      <td>(2001)</td>\n",
              "      <td>8.8</td>\n",
              "    </tr>\n",
              "    <tr>\n",
              "      <th>9</th>\n",
              "      <td>The Good, the Bad and the Ugly</td>\n",
              "      <td>(1966)</td>\n",
              "      <td>8.8</td>\n",
              "    </tr>\n",
              "  </tbody>\n",
              "</table>\n",
              "</div>\n",
              "      <button class=\"colab-df-convert\" onclick=\"convertToInteractive('df-11a7fc7f-a733-4639-b21a-bf397809d11a')\"\n",
              "              title=\"Convert this dataframe to an interactive table.\"\n",
              "              style=\"display:none;\">\n",
              "        \n",
              "  <svg xmlns=\"http://www.w3.org/2000/svg\" height=\"24px\"viewBox=\"0 0 24 24\"\n",
              "       width=\"24px\">\n",
              "    <path d=\"M0 0h24v24H0V0z\" fill=\"none\"/>\n",
              "    <path d=\"M18.56 5.44l.94 2.06.94-2.06 2.06-.94-2.06-.94-.94-2.06-.94 2.06-2.06.94zm-11 1L8.5 8.5l.94-2.06 2.06-.94-2.06-.94L8.5 2.5l-.94 2.06-2.06.94zm10 10l.94 2.06.94-2.06 2.06-.94-2.06-.94-.94-2.06-.94 2.06-2.06.94z\"/><path d=\"M17.41 7.96l-1.37-1.37c-.4-.4-.92-.59-1.43-.59-.52 0-1.04.2-1.43.59L10.3 9.45l-7.72 7.72c-.78.78-.78 2.05 0 2.83L4 21.41c.39.39.9.59 1.41.59.51 0 1.02-.2 1.41-.59l7.78-7.78 2.81-2.81c.8-.78.8-2.07 0-2.86zM5.41 20L4 18.59l7.72-7.72 1.47 1.35L5.41 20z\"/>\n",
              "  </svg>\n",
              "      </button>\n",
              "      \n",
              "  <style>\n",
              "    .colab-df-container {\n",
              "      display:flex;\n",
              "      flex-wrap:wrap;\n",
              "      gap: 12px;\n",
              "    }\n",
              "\n",
              "    .colab-df-convert {\n",
              "      background-color: #E8F0FE;\n",
              "      border: none;\n",
              "      border-radius: 50%;\n",
              "      cursor: pointer;\n",
              "      display: none;\n",
              "      fill: #1967D2;\n",
              "      height: 32px;\n",
              "      padding: 0 0 0 0;\n",
              "      width: 32px;\n",
              "    }\n",
              "\n",
              "    .colab-df-convert:hover {\n",
              "      background-color: #E2EBFA;\n",
              "      box-shadow: 0px 1px 2px rgba(60, 64, 67, 0.3), 0px 1px 3px 1px rgba(60, 64, 67, 0.15);\n",
              "      fill: #174EA6;\n",
              "    }\n",
              "\n",
              "    [theme=dark] .colab-df-convert {\n",
              "      background-color: #3B4455;\n",
              "      fill: #D2E3FC;\n",
              "    }\n",
              "\n",
              "    [theme=dark] .colab-df-convert:hover {\n",
              "      background-color: #434B5C;\n",
              "      box-shadow: 0px 1px 3px 1px rgba(0, 0, 0, 0.15);\n",
              "      filter: drop-shadow(0px 1px 2px rgba(0, 0, 0, 0.3));\n",
              "      fill: #FFFFFF;\n",
              "    }\n",
              "  </style>\n",
              "\n",
              "      <script>\n",
              "        const buttonEl =\n",
              "          document.querySelector('#df-11a7fc7f-a733-4639-b21a-bf397809d11a button.colab-df-convert');\n",
              "        buttonEl.style.display =\n",
              "          google.colab.kernel.accessAllowed ? 'block' : 'none';\n",
              "\n",
              "        async function convertToInteractive(key) {\n",
              "          const element = document.querySelector('#df-11a7fc7f-a733-4639-b21a-bf397809d11a');\n",
              "          const dataTable =\n",
              "            await google.colab.kernel.invokeFunction('convertToInteractive',\n",
              "                                                     [key], {});\n",
              "          if (!dataTable) return;\n",
              "\n",
              "          const docLinkHtml = 'Like what you see? Visit the ' +\n",
              "            '<a target=\"_blank\" href=https://colab.research.google.com/notebooks/data_table.ipynb>data table notebook</a>'\n",
              "            + ' to learn more about interactive tables.';\n",
              "          element.innerHTML = '';\n",
              "          dataTable['output_type'] = 'display_data';\n",
              "          await google.colab.output.renderOutput(dataTable, element);\n",
              "          const docLink = document.createElement('div');\n",
              "          docLink.innerHTML = docLinkHtml;\n",
              "          element.appendChild(docLink);\n",
              "        }\n",
              "      </script>\n",
              "    </div>\n",
              "  </div>\n",
              "  "
            ]
          },
          "metadata": {},
          "execution_count": 37
        }
      ]
    },
    {
      "cell_type": "markdown",
      "source": [
        "## **Activity 3:**\n",
        "\n"
      ],
      "metadata": {
        "id": "u9yJOmJBLKx6"
      }
    },
    {
      "cell_type": "markdown",
      "source": [
        "### **Covid-19 Cases:**\n",
        "\n",
        "You are required to scrape the website https://www.worldometers.info/coronavirus/ to get the latest updates on COVID-19 cases worldwide.\n",
        "\n",
        "1. Extract the Total Cases, Total Deaths, Total Recovered, and Active Cases data for all countries.\n",
        "\n",
        "2. Save the data in a CSV file with appropriate column names and make sure to remove any commas or non-numeric characters from the data.\n",
        "\n",
        "3. Clean the data to remove any missing values or inconsistencies. If there are any missing values, fill them appropriately.\n",
        "\n",
        "4. Visualize the data using appropriate graphs and charts.\n",
        "\n",
        "Note: Please make sure to be respectful of the website's terms of use and do not scrape any website that prohibits web scraping."
      ],
      "metadata": {
        "id": "aWCnXYrqOrV_"
      }
    },
    {
      "cell_type": "code",
      "source": [
        "# Downloading imdb top 250 movie's data\n",
        "url = 'https://www.worldometers.info/coronavirus/'\n",
        "response = requests.get(url)"
      ],
      "metadata": {
        "id": "8trD2LTcErX6"
      },
      "execution_count": null,
      "outputs": []
    },
    {
      "cell_type": "code",
      "source": [
        "print(response.text)"
      ],
      "metadata": {
        "id": "7et9OGI8xkWT"
      },
      "execution_count": null,
      "outputs": []
    },
    {
      "cell_type": "code",
      "source": [
        "soup = BeautifulSoup(response.text, 'html.parser')"
      ],
      "metadata": {
        "id": "D3qEVXRqy-1G"
      },
      "execution_count": null,
      "outputs": []
    },
    {
      "cell_type": "code",
      "source": [
        "#tr = soup.find_all(\"tr\", attrs={\"style\": \"\"})\n",
        "\n",
        "tr = soup.find(\"tbody\").find_all(\"tr\", attrs={\"style\": \"\"})\n",
        "len(tr)"
      ],
      "metadata": {
        "colab": {
          "base_uri": "https://localhost:8080/"
        },
        "id": "2RZR-lJSzkSR",
        "outputId": "86937fc9-930e-44a0-8adb-024c20e80d86"
      },
      "execution_count": null,
      "outputs": [
        {
          "output_type": "execute_result",
          "data": {
            "text/plain": [
              "209"
            ]
          },
          "metadata": {},
          "execution_count": 17
        }
      ]
    },
    {
      "cell_type": "code",
      "source": [
        "table = []\n",
        "for t in tr[2:-2]:\n",
        "  td = t.find_all(\"td\")\n",
        "  country = td[1].text\n",
        "  total_cases = td[2].text\n",
        "  total_deaths = td[4].text\n",
        "  total_recovered = td[6].text\n",
        "  active_cases = td[8].text\n",
        "  table.append({\"Country\": country, \"Total Cases\": total_cases, \"Total Deaths\": total_deaths, \"Total Recovered\": total_recovered, \"Active Cases\": active_cases})\n",
        "\n",
        "print(table)"
      ],
      "metadata": {
        "colab": {
          "base_uri": "https://localhost:8080/"
        },
        "id": "U54k-FEMaA_t",
        "outputId": "191d0373-6fc6-4fa9-bcce-7959d2e8dfca"
      },
      "execution_count": null,
      "outputs": [
        {
          "output_type": "stream",
          "name": "stdout",
          "text": [
            "[{'Country': 'India', 'Total Cases': '44,994,407', 'Total Deaths': '531,910                                ', 'Total Recovered': '44,461,044', 'Active Cases': '1,453'}, {'Country': 'France', 'Total Cases': '40,138,560', 'Total Deaths': '167,642                                ', 'Total Recovered': '39,950,975', 'Active Cases': '19,943'}, {'Country': 'Germany', 'Total Cases': '38,428,685', 'Total Deaths': '174,352                                ', 'Total Recovered': '38,240,600', 'Active Cases': '13,733'}, {'Country': 'Brazil', 'Total Cases': '37,682,660', 'Total Deaths': '704,159                                ', 'Total Recovered': '36,249,161', 'Active Cases': '729,340'}, {'Country': 'Japan', 'Total Cases': '33,803,572', 'Total Deaths': '74,694                                ', 'Total Recovered': 'N/A', 'Active Cases': 'N/A'}, {'Country': 'S. Korea', 'Total Cases': '32,256,154', 'Total Deaths': '35,071                                ', 'Total Recovered': '31,961,713', 'Active Cases': '259,370'}, {'Country': 'Italy', 'Total Cases': '25,897,801', 'Total Deaths': '190,868                                ', 'Total Recovered': '25,593,568', 'Active Cases': '113,365'}, {'Country': 'UK', 'Total Cases': '24,636,637', 'Total Deaths': '227,524                                ', 'Total Recovered': '24,402,986', 'Active Cases': '6,127'}, {'Country': 'Russia', 'Total Cases': '22,963,688', 'Total Deaths': '399,649                                ', 'Total Recovered': '22,408,708', 'Active Cases': '155,331'}, {'Country': 'Turkey', 'Total Cases': '17,232,066', 'Total Deaths': '102,174                                ', 'Total Recovered': 'N/A', 'Active Cases': 'N/A'}, {'Country': 'Spain', 'Total Cases': '13,914,811', 'Total Deaths': '121,760                                ', 'Total Recovered': '13,762,417', 'Active Cases': '30,634'}, {'Country': 'Australia', 'Total Cases': '11,700,577', 'Total Deaths': '21,817                                ', 'Total Recovered': '11,668,002', 'Active Cases': '10,758'}, {'Country': 'Vietnam', 'Total Cases': '11,620,833', 'Total Deaths': '43,206                                ', 'Total Recovered': '10,640,138', 'Active Cases': '937,489'}, {'Country': 'Mexico', 'Total Cases': '7,633,355', 'Total Deaths': '334,336                                ', 'Total Recovered': '6,885,378', 'Active Cases': '413,641'}, {'Country': 'Iran', 'Total Cases': '7,612,578', 'Total Deaths': '146,295                                ', 'Total Recovered': '7,369,873', 'Active Cases': '96,410'}, {'Country': 'Indonesia', 'Total Cases': '6,812,127', 'Total Deaths': '161,879                                ', 'Total Recovered': '6,642,003', 'Active Cases': '8,245'}, {'Country': 'Poland', 'Total Cases': '6,517,903', 'Total Deaths': '119,629                                ', 'Total Recovered': '5,335,940', 'Active Cases': '1,062,334'}, {'Country': 'Colombia', 'Total Cases': '6,372,392', 'Total Deaths': '142,807                                ', 'Total Recovered': '6,190,683', 'Active Cases': '38,902'}, {'Country': 'Austria', 'Total Cases': '6,081,287', 'Total Deaths': '22,542                                ', 'Total Recovered': '6,054,934', 'Active Cases': '3,811'}, {'Country': 'Portugal', 'Total Cases': '5,592,410', 'Total Deaths': '26,885                                ', 'Total Recovered': '5,563,162', 'Active Cases': '2,363'}, {'Country': 'Chile', 'Total Cases': '5,288,390', 'Total Deaths': '64,497                                ', 'Total Recovered': '5,223,852', 'Active Cases': '41'}, {'Country': 'Malaysia', 'Total Cases': '5,116,265', 'Total Deaths': '37,152                                ', 'Total Recovered': '5,064,159', 'Active Cases': '14,954'}, {'Country': 'Israel', 'Total Cases': '4,828,768', 'Total Deaths': '12,564                                ', 'Total Recovered': '4,798,473', 'Active Cases': '17,731'}, {'Country': 'Belgium', 'Total Cases': '4,801,724', 'Total Deaths': '34,375                                ', 'Total Recovered': '4,765,387', 'Active Cases': '1,962'}, {'Country': 'Thailand', 'Total Cases': '4,752,422', 'Total Deaths': '34,371                                ', 'Total Recovered': '4,692,636', 'Active Cases': '25,415'}, {'Country': 'Canada', 'Total Cases': '4,688,830', 'Total Deaths': '52,860                                ', 'Total Recovered': '4,628,854', 'Active Cases': '7,116'}, {'Country': 'Czechia', 'Total Cases': '4,642,786', 'Total Deaths': '42,811                                ', 'Total Recovered': '4,599,775', 'Active Cases': '200'}, {'Country': 'Switzerland', 'Total Cases': '4,407,105', 'Total Deaths': '14,452                                ', 'Total Recovered': '4,391,486', 'Active Cases': '1,167'}, {'Country': 'Philippines', 'Total Cases': '4,166,448', 'Total Deaths': '66,484                                ', 'Total Recovered': '4,093,333', 'Active Cases': '6,631'}, {'Country': 'South Africa', 'Total Cases': '4,076,463', 'Total Deaths': '102,595                                ', 'Total Recovered': '3,912,506', 'Active Cases': '61,362'}, {'Country': 'Romania', 'Total Cases': '3,407,995', 'Total Deaths': '68,240                                ', 'Total Recovered': '3,338,666', 'Active Cases': '1,089'}, {'Country': 'Denmark', 'Total Cases': '3,182,286', 'Total Deaths': '8,755                                ', 'Total Recovered': '3,173,439', 'Active Cases': '92'}, {'Country': 'Hong Kong', 'Total Cases': '2,912,353', 'Total Deaths': '13,819                                ', 'Total Recovered': '2,893,532', 'Active Cases': '5,002'}, {'Country': 'Sweden', 'Total Cases': '2,712,743', 'Total Deaths': '24,536                                ', 'Total Recovered': '2,686,651', 'Active Cases': '1,556'}, {'Country': 'Serbia', 'Total Cases': '2,544,001', 'Total Deaths': '18,057                                ', 'Total Recovered': '2,525,128', 'Active Cases': '816'}, {'Country': 'Singapore', 'Total Cases': '2,505,435', 'Total Deaths': '1,841                                ', 'Total Recovered': '2,149,583', 'Active Cases': '354,011'}, {'Country': 'Iraq', 'Total Cases': '2,465,545', 'Total Deaths': '25,375                                ', 'Total Recovered': '2,439,497', 'Active Cases': '673'}, {'Country': 'New Zealand', 'Total Cases': '2,419,839', 'Total Deaths': '4,533                                ', 'Total Recovered': '2,410,171', 'Active Cases': '5,135'}, {'Country': 'Hungary', 'Total Cases': '2,203,171', 'Total Deaths': '48,881                                ', 'Total Recovered': '2,152,155', 'Active Cases': '2,135'}, {'Country': 'Bangladesh', 'Total Cases': '2,042,422', 'Total Deaths': '29,462                                ', 'Total Recovered': '1,998,448', 'Active Cases': '14,512'}, {'Country': 'Georgia', 'Total Cases': '1,844,789', 'Total Deaths': '17,092                                ', 'Total Recovered': '1,776,548', 'Active Cases': '51,149'}, {'Country': 'Jordan', 'Total Cases': '1,746,997', 'Total Deaths': '14,122                                ', 'Total Recovered': '1,731,007', 'Active Cases': '1,868'}, {'Country': 'Ireland', 'Total Cases': '1,713,613', 'Total Deaths': '9,058                                ', 'Total Recovered': '1,703,596', 'Active Cases': '959'}, {'Country': 'Pakistan', 'Total Cases': '1,581,232', 'Total Deaths': '30,661                                ', 'Total Recovered': '1,538,689', 'Active Cases': '11,882'}, {'Country': 'Norway', 'Total Cases': '1,485,627', 'Total Deaths': '5,566                                ', 'Total Recovered': '1,479,798', 'Active Cases': '263'}, {'Country': 'Finland', 'Total Cases': '1,482,363', 'Total Deaths': '9,974                                ', 'Total Recovered': '1,471,334', 'Active Cases': '1,055'}, {'Country': 'Kazakhstan', 'Total Cases': '1,411,831', 'Total Deaths': '13,848                                ', 'Total Recovered': '1,383,020', 'Active Cases': '14,963'}, {'Country': 'Slovenia', 'Total Cases': '1,344,254', 'Total Deaths': '7,100                                ', 'Total Recovered': '1,337,079', 'Active Cases': '75'}, {'Country': 'Lithuania', 'Total Cases': '1,321,493', 'Total Deaths': '9,692                                ', 'Total Recovered': '1,311,368', 'Active Cases': '433'}, {'Country': 'Bulgaria', 'Total Cases': '1,309,178', 'Total Deaths': '38,428                                ', 'Total Recovered': '1,269,338', 'Active Cases': '1,412'}, {'Country': 'Morocco', 'Total Cases': '1,275,136', 'Total Deaths': '16,297                                ', 'Total Recovered': '1,256,151', 'Active Cases': '2,688'}, {'Country': 'Croatia', 'Total Cases': '1,274,014', 'Total Deaths': '18,275                                ', 'Total Recovered': '1,255,594', 'Active Cases': '145'}, {'Country': 'Guatemala', 'Total Cases': '1,261,671', 'Total Deaths': '20,208                                ', 'Total Recovered': '1,236,717', 'Active Cases': '4,746'}, {'Country': 'Lebanon', 'Total Cases': '1,238,552', 'Total Deaths': '10,936                                ', 'Total Recovered': '1,087,587', 'Active Cases': '140,029'}, {'Country': 'Costa Rica', 'Total Cases': '1,235,961', 'Total Deaths': '9,386                                ', 'Total Recovered': '860,711', 'Active Cases': '365,864'}, {'Country': 'Bolivia', 'Total Cases': '1,203,252', 'Total Deaths': '22,392                                ', 'Total Recovered': '1,171,400', 'Active Cases': '9,460'}, {'Country': 'Tunisia', 'Total Cases': '1,153,361', 'Total Deaths': '29,423                                ', 'Total Recovered': 'N/A', 'Active Cases': 'N/A'}, {'Country': 'Cuba', 'Total Cases': '1,114,888', 'Total Deaths': '8,530                                ', 'Total Recovered': '1,106,254', 'Active Cases': '104'}, {'Country': 'UAE', 'Total Cases': '1,067,030', 'Total Deaths': '2,349                                ', 'Total Recovered': '1,054,525', 'Active Cases': '10,156'}, {'Country': 'Panama', 'Total Cases': '1,042,631', 'Total Deaths': '8,634                                ', 'Total Recovered': '1,032,845', 'Active Cases': '1,152'}, {'Country': 'Uruguay', 'Total Cases': '1,038,774', 'Total Deaths': '7,634                                ', 'Total Recovered': '1,030,944', 'Active Cases': '196'}, {'Country': 'Nepal', 'Total Cases': '1,003,369', 'Total Deaths': '12,031                                ', 'Total Recovered': '991,322', 'Active Cases': '16'}, {'Country': 'Belarus', 'Total Cases': '994,037', 'Total Deaths': '7,118                                ', 'Total Recovered': '985,592', 'Active Cases': '1,327'}, {'Country': 'Latvia', 'Total Cases': '978,172', 'Total Deaths': '6,386                                ', 'Total Recovered': '971,406', 'Active Cases': '380'}, {'Country': 'Saudi Arabia', 'Total Cases': '841,469', 'Total Deaths': '9,646                                ', 'Total Recovered': '827,923', 'Active Cases': '3,900'}, {'Country': 'Azerbaijan', 'Total Cases': '831,954', 'Total Deaths': '10,284                                ', 'Total Recovered': '821,661', 'Active Cases': '9'}, {'Country': 'Paraguay', 'Total Cases': '811,307', 'Total Deaths': '19,965                                ', 'Total Recovered': 'N/A', 'Active Cases': 'N/A'}, {'Country': 'Bahrain', 'Total Cases': '722,555', 'Total Deaths': '1,566                                ', 'Total Recovered': '720,863', 'Active Cases': '126'}, {'Country': 'Sri Lanka', 'Total Cases': '672,544', 'Total Deaths': '16,879                                ', 'Total Recovered': '655,658', 'Active Cases': '7'}, {'Country': 'Kuwait', 'Total Cases': '665,974', 'Total Deaths': '2,570                                ', 'Total Recovered': '660,237', 'Active Cases': '3,167'}, {'Country': 'Dominican Republic', 'Total Cases': '662,418', 'Total Deaths': '4,384                                ', 'Total Recovered': '644,785', 'Active Cases': '13,249'}, {'Country': 'Myanmar', 'Total Cases': '640,496', 'Total Deaths': '19,494                                ', 'Total Recovered': '619,421', 'Active Cases': '1,581'}, {'Country': 'Palestine', 'Total Cases': '621,008', 'Total Deaths': '5,404                                ', 'Total Recovered': '615,445', 'Active Cases': '159'}, {'Country': 'Moldova', 'Total Cases': '620,717', 'Total Deaths': '12,124                                ', 'Total Recovered': '504,142', 'Active Cases': '104,451'}, {'Country': 'Estonia', 'Total Cases': '619,297', 'Total Deaths': '3,001                                ', 'Total Recovered': '524,990', 'Active Cases': '91,306'}, {'Country': 'Venezuela', 'Total Cases': '552,695', 'Total Deaths': '5,856                                ', 'Total Recovered': '546,537', 'Active Cases': '302'}, {'Country': 'Egypt', 'Total Cases': '516,023', 'Total Deaths': '24,613                                ', 'Total Recovered': '442,182', 'Active Cases': '49,228'}, {'Country': 'Qatar', 'Total Cases': '514,524', 'Total Deaths': '690                                ', 'Total Recovered': '513,687', 'Active Cases': '147'}, {'Country': 'Ethiopia', 'Total Cases': '500,920', 'Total Deaths': '7,574                                ', 'Total Recovered': '488,153', 'Active Cases': '5,193'}, {'Country': 'Réunion', 'Total Cases': '486,588', 'Total Deaths': '921                                ', 'Total Recovered': '418,572', 'Active Cases': '67,095'}, {'Country': 'Honduras', 'Total Cases': '472,619', 'Total Deaths': '11,116                                ', 'Total Recovered': 'N/A', 'Active Cases': 'N/A'}, {'Country': 'Armenia', 'Total Cases': '449,233', 'Total Deaths': '8,751                                ', 'Total Recovered': '435,162', 'Active Cases': '5,320'}, {'Country': 'Bosnia and Herzegovina', 'Total Cases': '403,043', 'Total Deaths': '16,350                                ', 'Total Recovered': '379,084', 'Active Cases': '7,609'}, {'Country': 'Oman', 'Total Cases': '399,449', 'Total Deaths': '4,628                                ', 'Total Recovered': '384,669', 'Active Cases': '10,152'}, {'Country': 'North Macedonia', 'Total Cases': '348,335', 'Total Deaths': '9,677                                ', 'Total Recovered': '337,068', 'Active Cases': '1,590'}, {'Country': 'Zambia', 'Total Cases': '347,022', 'Total Deaths': '4,062                                ', 'Total Recovered': '341,316', 'Active Cases': '1,644'}, {'Country': 'Kenya', 'Total Cases': '343,537', 'Total Deaths': '5,689                                ', 'Total Recovered': '337,309', 'Active Cases': '539'}, {'Country': 'Albania', 'Total Cases': '334,726', 'Total Deaths': '3,602                                ', 'Total Recovered': '329,428', 'Active Cases': '1,696'}, {'Country': 'Botswana', 'Total Cases': '330,008', 'Total Deaths': '2,801                                ', 'Total Recovered': '327,049', 'Active Cases': '158'}, {'Country': 'Luxembourg', 'Total Cases': '319,959', 'Total Deaths': '1,232                                ', 'Total Recovered': '316,690', 'Active Cases': '2,037'}, {'Country': 'Brunei ', 'Total Cases': '308,777', 'Total Deaths': '225                                ', 'Total Recovered': '243,601', 'Active Cases': '64,951'}, {'Country': 'Montenegro', 'Total Cases': '291,937', 'Total Deaths': '2,828                                ', 'Total Recovered': '288,645', 'Active Cases': '464'}, {'Country': 'Algeria', 'Total Cases': '271,852', 'Total Deaths': '6,881                                ', 'Total Recovered': '183,061', 'Active Cases': '81,910'}, {'Country': 'Nigeria', 'Total Cases': '266,675', 'Total Deaths': '3,155                                ', 'Total Recovered': '259,953', 'Active Cases': '3,567'}, {'Country': 'Zimbabwe', 'Total Cases': '265,413', 'Total Deaths': '5,707                                ', 'Total Recovered': '258,888', 'Active Cases': '818'}, {'Country': 'Uzbekistan', 'Total Cases': '253,662', 'Total Deaths': '1,637                                ', 'Total Recovered': '241,486', 'Active Cases': '10,539'}, {'Country': 'Mozambique', 'Total Cases': '233,417', 'Total Deaths': '2,243                                ', 'Total Recovered': '228,805', 'Active Cases': '2,369'}, {'Country': 'Martinique', 'Total Cases': '230,354', 'Total Deaths': '1,102                                ', 'Total Recovered': 'N/A', 'Active Cases': 'N/A'}, {'Country': 'Afghanistan', 'Total Cases': '223,554', 'Total Deaths': '7,930                                ', 'Total Recovered': '203,214', 'Active Cases': '12,410'}, {'Country': 'Laos', 'Total Cases': '218,530', 'Total Deaths': '758                                ', 'Total Recovered': 'N/A', 'Active Cases': 'N/A'}, {'Country': 'Iceland', 'Total Cases': '209,191', 'Total Deaths': '229                                ', 'Total Recovered': 'N/A', 'Active Cases': 'N/A'}, {'Country': 'Kyrgyzstan', 'Total Cases': '206,897', 'Total Deaths': '2,991                                ', 'Total Recovered': '196,406', 'Active Cases': '7,500'}, {'Country': 'Guadeloupe', 'Total Cases': '203,235', 'Total Deaths': '1,021                                ', 'Total Recovered': 'N/A', 'Active Cases': 'N/A'}, {'Country': 'El Salvador', 'Total Cases': '201,785', 'Total Deaths': '4,230                                ', 'Total Recovered': '179,410', 'Active Cases': '18,145'}, {'Country': 'Trinidad and Tobago', 'Total Cases': '191,496', 'Total Deaths': '4,390                                ', 'Total Recovered': '187,078', 'Active Cases': '28'}, {'Country': 'Maldives', 'Total Cases': '186,685', 'Total Deaths': '316                                ', 'Total Recovered': '163,687', 'Active Cases': '22,682'}, {'Country': 'Ghana', 'Total Cases': '171,657', 'Total Deaths': '1,462                                ', 'Total Recovered': '170,161', 'Active Cases': '34'}, {'Country': 'Namibia', 'Total Cases': '171,310', 'Total Deaths': '4,091                                ', 'Total Recovered': '167,099', 'Active Cases': '120'}, {'Country': 'Uganda', 'Total Cases': '170,775', 'Total Deaths': '3,632                                ', 'Total Recovered': '100,431', 'Active Cases': '66,712'}, {'Country': 'Jamaica', 'Total Cases': '155,292', 'Total Deaths': '3,566                                ', 'Total Recovered': '103,011', 'Active Cases': '48,715'}, {'Country': 'Cambodia', 'Total Cases': '138,931', 'Total Deaths': '3,056                                ', 'Total Recovered': '135,846', 'Active Cases': '29'}, {'Country': 'Rwanda', 'Total Cases': '133,194', 'Total Deaths': '1,468                                ', 'Total Recovered': '131,647', 'Active Cases': '79'}, {'Country': 'Cameroon', 'Total Cases': '125,087', 'Total Deaths': '1,974                                ', 'Total Recovered': '122,807', 'Active Cases': '306'}, {'Country': 'Malta', 'Total Cases': '119,063', 'Total Deaths': '844                                ', 'Total Recovered': '117,656', 'Active Cases': '563'}, {'Country': 'Barbados', 'Total Cases': '107,794', 'Total Deaths': '593                                ', 'Total Recovered': '106,971', 'Active Cases': '230'}, {'Country': 'Angola', 'Total Cases': '105,384', 'Total Deaths': '1,934                                ', 'Total Recovered': '103,419', 'Active Cases': '31'}, {'Country': 'Channel Islands', 'Total Cases': '101,717', 'Total Deaths': '228                                ', 'Total Recovered': '101,321', 'Active Cases': '168'}, {'Country': 'French Guiana', 'Total Cases': '98,041', 'Total Deaths': '420                                ', 'Total Recovered': '11,254', 'Active Cases': '86,367'}, {'Country': 'DRC', 'Total Cases': '97,409', 'Total Deaths': '1,468                                ', 'Total Recovered': '84,489', 'Active Cases': '11,452'}, {'Country': 'Senegal', 'Total Cases': '89,003', 'Total Deaths': '1,971                                ', 'Total Recovered': '87,024', 'Active Cases': '8'}, {'Country': 'Malawi', 'Total Cases': '88,728', 'Total Deaths': '2,686                                ', 'Total Recovered': '85,651', 'Active Cases': '391'}, {'Country': 'Ivory Coast', 'Total Cases': '88,335', 'Total Deaths': '835                                ', 'Total Recovered': '87,497', 'Active Cases': '3'}, {'Country': 'Suriname', 'Total Cases': '82,588', 'Total Deaths': '1,408                                ', 'Total Recovered': 'N/A', 'Active Cases': 'N/A'}, {'Country': 'New Caledonia', 'Total Cases': '79,922', 'Total Deaths': '314                                ', 'Total Recovered': '79,605', 'Active Cases': '3'}, {'Country': 'French Polynesia', 'Total Cases': '78,601', 'Total Deaths': '649                                ', 'Total Recovered': 'N/A', 'Active Cases': 'N/A'}, {'Country': 'Eswatini', 'Total Cases': '74,882', 'Total Deaths': '1,427                                ', 'Total Recovered': '73,116', 'Active Cases': '339'}, {'Country': 'Guyana', 'Total Cases': '73,385', 'Total Deaths': '1,299                                ', 'Total Recovered': '72,013', 'Active Cases': '73'}, {'Country': 'Belize', 'Total Cases': '70,782', 'Total Deaths': '688                                ', 'Total Recovered': '70,085', 'Active Cases': '9'}, {'Country': 'Fiji', 'Total Cases': '69,117', 'Total Deaths': '885                                ', 'Total Recovered': '67,226', 'Active Cases': '1,006'}, {'Country': 'Madagascar', 'Total Cases': '68,289', 'Total Deaths': '1,425                                ', 'Total Recovered': '66,862', 'Active Cases': '2'}, {'Country': 'Cabo Verde', 'Total Cases': '64,125', 'Total Deaths': '414                                ', 'Total Recovered': '63,631', 'Active Cases': '80'}, {'Country': 'Sudan', 'Total Cases': '63,993', 'Total Deaths': '5,046                                ', 'Total Recovered': '58,763', 'Active Cases': '184'}, {'Country': 'Mauritania', 'Total Cases': '63,715', 'Total Deaths': '997                                ', 'Total Recovered': '62,471', 'Active Cases': '247'}, {'Country': 'Bhutan', 'Total Cases': '62,673', 'Total Deaths': '21                                ', 'Total Recovered': '61,564', 'Active Cases': '1,088'}, {'Country': 'Burundi', 'Total Cases': '54,142', 'Total Deaths': '38                                ', 'Total Recovered': '53,569', 'Active Cases': '535'}, {'Country': 'Seychelles', 'Total Cases': '50,937', 'Total Deaths': '172                                ', 'Total Recovered': '50,750', 'Active Cases': '15'}, {'Country': 'Gabon', 'Total Cases': '48,992', 'Total Deaths': '307                                ', 'Total Recovered': '48,674', 'Active Cases': '11'}, {'Country': 'Andorra', 'Total Cases': '48,015', 'Total Deaths': '165                                ', 'Total Recovered': '47,563', 'Active Cases': '287'}, {'Country': 'Papua New Guinea', 'Total Cases': '46,864', 'Total Deaths': '670                                ', 'Total Recovered': '43,982', 'Active Cases': '2,212'}, {'Country': 'Curaçao', 'Total Cases': '45,986', 'Total Deaths': '295                                ', 'Total Recovered': '44,720', 'Active Cases': '971'}, {'Country': 'Aruba', 'Total Cases': '44,200', 'Total Deaths': '236                                ', 'Total Recovered': '42,438', 'Active Cases': '1,526'}, {'Country': 'Tanzania', 'Total Cases': '43,078', 'Total Deaths': '846                                ', 'Total Recovered': 'N/A', 'Active Cases': 'N/A'}, {'Country': 'Mauritius', 'Total Cases': '42,642', 'Total Deaths': '1,051                                ', 'Total Recovered': '40,904', 'Active Cases': '687'}, {'Country': 'Mayotte', 'Total Cases': '42,027', 'Total Deaths': '188                                ', 'Total Recovered': 'N/A', 'Active Cases': 'N/A'}, {'Country': 'Togo', 'Total Cases': '39,506', 'Total Deaths': '290                                ', 'Total Recovered': '39,213', 'Active Cases': '3'}, {'Country': 'Guinea', 'Total Cases': '38,563', 'Total Deaths': '468                                ', 'Total Recovered': '37,757', 'Active Cases': '338'}, {'Country': 'Bahamas', 'Total Cases': '38,084', 'Total Deaths': '844                                ', 'Total Recovered': '36,366', 'Active Cases': '874'}, {'Country': 'Isle of Man', 'Total Cases': '38,008', 'Total Deaths': '116                                ', 'Total Recovered': 'N/A', 'Active Cases': 'N/A'}, {'Country': 'Lesotho', 'Total Cases': '34,790', 'Total Deaths': '723                                ', 'Total Recovered': '25,980', 'Active Cases': '8,087'}, {'Country': 'Faeroe Islands', 'Total Cases': '34,658', 'Total Deaths': '28                                ', 'Total Recovered': 'N/A', 'Active Cases': 'N/A'}, {'Country': 'Haiti', 'Total Cases': '34,301', 'Total Deaths': '860                                ', 'Total Recovered': '33,368', 'Active Cases': '73'}, {'Country': 'Mali', 'Total Cases': '33,151', 'Total Deaths': '743                                ', 'Total Recovered': '32,332', 'Active Cases': '76'}, {'Country': 'Cayman Islands', 'Total Cases': '31,472', 'Total Deaths': '37                                ', 'Total Recovered': '8,553', 'Active Cases': '22,882'}, {'Country': 'Saint Lucia', 'Total Cases': '30,052', 'Total Deaths': '409                                ', 'Total Recovered': '29,095', 'Active Cases': '548'}, {'Country': 'Benin', 'Total Cases': '28,014', 'Total Deaths': '163                                ', 'Total Recovered': '27,847', 'Active Cases': '4'}, {'Country': 'Somalia', 'Total Cases': '27,334', 'Total Deaths': '1,361                                ', 'Total Recovered': '13,182', 'Active Cases': '12,791'}, {'Country': 'Micronesia', 'Total Cases': '26,459', 'Total Deaths': '65                                ', 'Total Recovered': 'N/A', 'Active Cases': 'N/A'}, {'Country': 'Congo', 'Total Cases': '25,375', 'Total Deaths': '386                                ', 'Total Recovered': '24,006', 'Active Cases': '983'}, {'Country': 'Solomon Islands', 'Total Cases': '24,575', 'Total Deaths': '153                                ', 'Total Recovered': 'N/A', 'Active Cases': 'N/A'}, {'Country': 'San Marino', 'Total Cases': '24,326', 'Total Deaths': '125                                ', 'Total Recovered': '24,196', 'Active Cases': '5'}, {'Country': 'Timor-Leste', 'Total Cases': '23,457', 'Total Deaths': '138                                ', 'Total Recovered': '23,102', 'Active Cases': '217'}, {'Country': 'Burkina Faso', 'Total Cases': '22,056', 'Total Deaths': '396                                ', 'Total Recovered': '21,596', 'Active Cases': '64'}, {'Country': 'Gibraltar', 'Total Cases': '20,550', 'Total Deaths': '113                                ', 'Total Recovered': '16,579', 'Active Cases': '3,858'}, {'Country': 'Grenada', 'Total Cases': '19,693', 'Total Deaths': '238                                ', 'Total Recovered': '19,358', 'Active Cases': '97'}, {'Country': 'Bermuda', 'Total Cases': '18,860', 'Total Deaths': '165                                ', 'Total Recovered': '18,685', 'Active Cases': '10'}, {'Country': 'Nicaragua', 'Total Cases': '18,491', 'Total Deaths': '225                                ', 'Total Recovered': '4,225', 'Active Cases': '14,041'}, {'Country': 'South Sudan', 'Total Cases': '18,368', 'Total Deaths': '138                                ', 'Total Recovered': '18,115', 'Active Cases': '115'}, {'Country': 'Tajikistan', 'Total Cases': '17,786', 'Total Deaths': '125                                ', 'Total Recovered': '17,264', 'Active Cases': '397'}, {'Country': 'Equatorial Guinea', 'Total Cases': '17,229', 'Total Deaths': '183                                ', 'Total Recovered': '16,907', 'Active Cases': '139'}, {'Country': 'Monaco', 'Total Cases': '16,838', 'Total Deaths': '67                                ', 'Total Recovered': '15,992', 'Active Cases': '779'}, {'Country': 'Tonga', 'Total Cases': '16,819', 'Total Deaths': '13                                ', 'Total Recovered': '15,638', 'Active Cases': '1,168'}, {'Country': 'Samoa', 'Total Cases': '16,764', 'Total Deaths': '31                                ', 'Total Recovered': '1,605', 'Active Cases': '15,128'}, {'Country': 'Marshall Islands', 'Total Cases': '16,098', 'Total Deaths': '17                                ', 'Total Recovered': '16,079', 'Active Cases': '2'}, {'Country': 'Dominica', 'Total Cases': '15,760', 'Total Deaths': '74                                ', 'Total Recovered': '15,673', 'Active Cases': '13'}, {'Country': 'Djibouti', 'Total Cases': '15,690', 'Total Deaths': '189                                ', 'Total Recovered': '15,427', 'Active Cases': '74'}, {'Country': 'CAR', 'Total Cases': '15,368', 'Total Deaths': '113                                ', 'Total Recovered': '15,200', 'Active Cases': '55'}, {'Country': 'Gambia', 'Total Cases': '12,626', 'Total Deaths': '372                                ', 'Total Recovered': '12,189', 'Active Cases': '65'}, {'Country': 'Saint Martin', 'Total Cases': '12,324', 'Total Deaths': '63                                ', 'Total Recovered': '1,399', 'Active Cases': '10,862'}, {'Country': 'Vanuatu', 'Total Cases': '12,019', 'Total Deaths': '14                                ', 'Total Recovered': '11,976', 'Active Cases': '29'}, {'Country': 'Greenland', 'Total Cases': '11,971', 'Total Deaths': '21                                ', 'Total Recovered': '2,761', 'Active Cases': '9,189'}, {'Country': 'Macao', 'Total Cases': '11,968', 'Total Deaths': '123                                ', 'Total Recovered': '3,487', 'Active Cases': '8,358'}, {'Country': 'Yemen', 'Total Cases': '11,945', 'Total Deaths': '2,159                                ', 'Total Recovered': '9,124', 'Active Cases': '662'}, {'Country': 'Caribbean Netherlands', 'Total Cases': '11,682', 'Total Deaths': '38                                ', 'Total Recovered': '10,476', 'Active Cases': '1,168'}, {'Country': 'Sint Maarten', 'Total Cases': '11,051', 'Total Deaths': '92                                ', 'Total Recovered': '10,905', 'Active Cases': '54'}, {'Country': 'Niger', 'Total Cases': '9,931', 'Total Deaths': '312                                ', 'Total Recovered': '8,890', 'Active Cases': '729'}, {'Country': 'St. Vincent Grenadines', 'Total Cases': '9,631', 'Total Deaths': '124                                ', 'Total Recovered': '9,493', 'Active Cases': '14'}, {'Country': 'Guinea-Bissau', 'Total Cases': '9,614', 'Total Deaths': '177                                ', 'Total Recovered': '8,929', 'Active Cases': '508'}, {'Country': 'Comoros', 'Total Cases': '9,109', 'Total Deaths': '161                                ', 'Total Recovered': '8,939', 'Active Cases': '9'}, {'Country': 'Antigua and Barbuda', 'Total Cases': '9,106', 'Total Deaths': '146                                ', 'Total Recovered': '8,954', 'Active Cases': '6'}, {'Country': 'Liberia', 'Total Cases': '8,090', 'Total Deaths': '295                                ', 'Total Recovered': '7,783', 'Active Cases': '12'}, {'Country': 'Sierra Leone', 'Total Cases': '7,762', 'Total Deaths': '126                                ', 'Total Recovered': 'N/A', 'Active Cases': 'N/A'}, {'Country': 'Chad', 'Total Cases': '7,701', 'Total Deaths': '194                                ', 'Total Recovered': '4,874', 'Active Cases': '2,633'}, {'Country': 'British Virgin Islands', 'Total Cases': '7,305', 'Total Deaths': '64                                ', 'Total Recovered': 'N/A', 'Active Cases': 'N/A'}, {'Country': 'Cook Islands', 'Total Cases': '7,144', 'Total Deaths': '2                                ', 'Total Recovered': '7,138', 'Active Cases': '4'}, {'Country': 'Turks and Caicos', 'Total Cases': '6,612', 'Total Deaths': '38                                ', 'Total Recovered': '6,556', 'Active Cases': '18'}, {'Country': 'Palau', 'Total Cases': '6,018', 'Total Deaths': '9                                ', 'Total Recovered': '6,006', 'Active Cases': '3'}, {'Country': 'St. Barth', 'Total Cases': '5,507', 'Total Deaths': '6                                ', 'Total Recovered': 'N/A', 'Active Cases': 'N/A'}, {'Country': 'Nauru', 'Total Cases': '5,393', 'Total Deaths': '1                                ', 'Total Recovered': '5,347', 'Active Cases': '45'}, {'Country': 'Kiribati', 'Total Cases': '5,037', 'Total Deaths': '24                                ', 'Total Recovered': '2,703', 'Active Cases': '2,310'}, {'Country': 'Anguilla', 'Total Cases': '3,904', 'Total Deaths': '12                                ', 'Total Recovered': '3,879', 'Active Cases': '13'}, {'Country': 'Wallis and Futuna', 'Total Cases': '3,550', 'Total Deaths': '8                                ', 'Total Recovered': '438', 'Active Cases': '3,104'}, {'Country': 'Saint Pierre Miquelon', 'Total Cases': '3,452', 'Total Deaths': '2                                ', 'Total Recovered': '2,449', 'Active Cases': '1,001'}, {'Country': 'Tuvalu', 'Total Cases': '2,943', 'Total Deaths': '1                                ', 'Total Recovered': '', 'Active Cases': '2,942'}, {'Country': 'Saint Helena', 'Total Cases': '2,166', 'Total Deaths': ' ', 'Total Recovered': '2', 'Active Cases': '2,164'}, {'Country': 'Montserrat', 'Total Cases': '1,403', 'Total Deaths': '8                                ', 'Total Recovered': '1,376', 'Active Cases': '19'}]\n"
          ]
        }
      ]
    },
    {
      "cell_type": "code",
      "source": [
        "df = pd.DataFrame(table)"
      ],
      "metadata": {
        "id": "WVbXX8YWfFhI"
      },
      "execution_count": null,
      "outputs": []
    },
    {
      "cell_type": "code",
      "source": [
        "df"
      ],
      "metadata": {
        "colab": {
          "base_uri": "https://localhost:8080/",
          "height": 467
        },
        "id": "rpop-jEMlfIT",
        "outputId": "535b58d9-1c80-4358-849c-eb325ebb4ce6"
      },
      "execution_count": null,
      "outputs": [
        {
          "output_type": "execute_result",
          "data": {
            "text/plain": [
              "                   Country Total Cases  \\\n",
              "0                    India  44,994,407   \n",
              "1                   France  40,138,560   \n",
              "2                  Germany  38,428,685   \n",
              "3                   Brazil  37,682,660   \n",
              "4                    Japan  33,803,572   \n",
              "..                     ...         ...   \n",
              "200      Wallis and Futuna       3,550   \n",
              "201  Saint Pierre Miquelon       3,452   \n",
              "202                 Tuvalu       2,943   \n",
              "203           Saint Helena       2,166   \n",
              "204             Montserrat       1,403   \n",
              "\n",
              "                                Total Deaths Total Recovered Active Cases  \n",
              "0    531,910                                      44,461,044        1,453  \n",
              "1    167,642                                      39,950,975       19,943  \n",
              "2    174,352                                      38,240,600       13,733  \n",
              "3    704,159                                      36,249,161      729,340  \n",
              "4     74,694                                             N/A          N/A  \n",
              "..                                       ...             ...          ...  \n",
              "200        8                                             438        3,104  \n",
              "201        2                                           2,449        1,001  \n",
              "202        1                                                        2,942  \n",
              "203                                                        2        2,164  \n",
              "204        8                                           1,376           19  \n",
              "\n",
              "[205 rows x 5 columns]"
            ],
            "text/html": [
              "\n",
              "  <div id=\"df-76059f30-a0f3-4e26-91f8-4eadb206cbd4\">\n",
              "    <div class=\"colab-df-container\">\n",
              "      <div>\n",
              "<style scoped>\n",
              "    .dataframe tbody tr th:only-of-type {\n",
              "        vertical-align: middle;\n",
              "    }\n",
              "\n",
              "    .dataframe tbody tr th {\n",
              "        vertical-align: top;\n",
              "    }\n",
              "\n",
              "    .dataframe thead th {\n",
              "        text-align: right;\n",
              "    }\n",
              "</style>\n",
              "<table border=\"1\" class=\"dataframe\">\n",
              "  <thead>\n",
              "    <tr style=\"text-align: right;\">\n",
              "      <th></th>\n",
              "      <th>Country</th>\n",
              "      <th>Total Cases</th>\n",
              "      <th>Total Deaths</th>\n",
              "      <th>Total Recovered</th>\n",
              "      <th>Active Cases</th>\n",
              "    </tr>\n",
              "  </thead>\n",
              "  <tbody>\n",
              "    <tr>\n",
              "      <th>0</th>\n",
              "      <td>India</td>\n",
              "      <td>44,994,407</td>\n",
              "      <td>531,910</td>\n",
              "      <td>44,461,044</td>\n",
              "      <td>1,453</td>\n",
              "    </tr>\n",
              "    <tr>\n",
              "      <th>1</th>\n",
              "      <td>France</td>\n",
              "      <td>40,138,560</td>\n",
              "      <td>167,642</td>\n",
              "      <td>39,950,975</td>\n",
              "      <td>19,943</td>\n",
              "    </tr>\n",
              "    <tr>\n",
              "      <th>2</th>\n",
              "      <td>Germany</td>\n",
              "      <td>38,428,685</td>\n",
              "      <td>174,352</td>\n",
              "      <td>38,240,600</td>\n",
              "      <td>13,733</td>\n",
              "    </tr>\n",
              "    <tr>\n",
              "      <th>3</th>\n",
              "      <td>Brazil</td>\n",
              "      <td>37,682,660</td>\n",
              "      <td>704,159</td>\n",
              "      <td>36,249,161</td>\n",
              "      <td>729,340</td>\n",
              "    </tr>\n",
              "    <tr>\n",
              "      <th>4</th>\n",
              "      <td>Japan</td>\n",
              "      <td>33,803,572</td>\n",
              "      <td>74,694</td>\n",
              "      <td>N/A</td>\n",
              "      <td>N/A</td>\n",
              "    </tr>\n",
              "    <tr>\n",
              "      <th>...</th>\n",
              "      <td>...</td>\n",
              "      <td>...</td>\n",
              "      <td>...</td>\n",
              "      <td>...</td>\n",
              "      <td>...</td>\n",
              "    </tr>\n",
              "    <tr>\n",
              "      <th>200</th>\n",
              "      <td>Wallis and Futuna</td>\n",
              "      <td>3,550</td>\n",
              "      <td>8</td>\n",
              "      <td>438</td>\n",
              "      <td>3,104</td>\n",
              "    </tr>\n",
              "    <tr>\n",
              "      <th>201</th>\n",
              "      <td>Saint Pierre Miquelon</td>\n",
              "      <td>3,452</td>\n",
              "      <td>2</td>\n",
              "      <td>2,449</td>\n",
              "      <td>1,001</td>\n",
              "    </tr>\n",
              "    <tr>\n",
              "      <th>202</th>\n",
              "      <td>Tuvalu</td>\n",
              "      <td>2,943</td>\n",
              "      <td>1</td>\n",
              "      <td></td>\n",
              "      <td>2,942</td>\n",
              "    </tr>\n",
              "    <tr>\n",
              "      <th>203</th>\n",
              "      <td>Saint Helena</td>\n",
              "      <td>2,166</td>\n",
              "      <td></td>\n",
              "      <td>2</td>\n",
              "      <td>2,164</td>\n",
              "    </tr>\n",
              "    <tr>\n",
              "      <th>204</th>\n",
              "      <td>Montserrat</td>\n",
              "      <td>1,403</td>\n",
              "      <td>8</td>\n",
              "      <td>1,376</td>\n",
              "      <td>19</td>\n",
              "    </tr>\n",
              "  </tbody>\n",
              "</table>\n",
              "<p>205 rows × 5 columns</p>\n",
              "</div>\n",
              "      <button class=\"colab-df-convert\" onclick=\"convertToInteractive('df-76059f30-a0f3-4e26-91f8-4eadb206cbd4')\"\n",
              "              title=\"Convert this dataframe to an interactive table.\"\n",
              "              style=\"display:none;\">\n",
              "        \n",
              "  <svg xmlns=\"http://www.w3.org/2000/svg\" height=\"24px\"viewBox=\"0 0 24 24\"\n",
              "       width=\"24px\">\n",
              "    <path d=\"M0 0h24v24H0V0z\" fill=\"none\"/>\n",
              "    <path d=\"M18.56 5.44l.94 2.06.94-2.06 2.06-.94-2.06-.94-.94-2.06-.94 2.06-2.06.94zm-11 1L8.5 8.5l.94-2.06 2.06-.94-2.06-.94L8.5 2.5l-.94 2.06-2.06.94zm10 10l.94 2.06.94-2.06 2.06-.94-2.06-.94-.94-2.06-.94 2.06-2.06.94z\"/><path d=\"M17.41 7.96l-1.37-1.37c-.4-.4-.92-.59-1.43-.59-.52 0-1.04.2-1.43.59L10.3 9.45l-7.72 7.72c-.78.78-.78 2.05 0 2.83L4 21.41c.39.39.9.59 1.41.59.51 0 1.02-.2 1.41-.59l7.78-7.78 2.81-2.81c.8-.78.8-2.07 0-2.86zM5.41 20L4 18.59l7.72-7.72 1.47 1.35L5.41 20z\"/>\n",
              "  </svg>\n",
              "      </button>\n",
              "      \n",
              "  <style>\n",
              "    .colab-df-container {\n",
              "      display:flex;\n",
              "      flex-wrap:wrap;\n",
              "      gap: 12px;\n",
              "    }\n",
              "\n",
              "    .colab-df-convert {\n",
              "      background-color: #E8F0FE;\n",
              "      border: none;\n",
              "      border-radius: 50%;\n",
              "      cursor: pointer;\n",
              "      display: none;\n",
              "      fill: #1967D2;\n",
              "      height: 32px;\n",
              "      padding: 0 0 0 0;\n",
              "      width: 32px;\n",
              "    }\n",
              "\n",
              "    .colab-df-convert:hover {\n",
              "      background-color: #E2EBFA;\n",
              "      box-shadow: 0px 1px 2px rgba(60, 64, 67, 0.3), 0px 1px 3px 1px rgba(60, 64, 67, 0.15);\n",
              "      fill: #174EA6;\n",
              "    }\n",
              "\n",
              "    [theme=dark] .colab-df-convert {\n",
              "      background-color: #3B4455;\n",
              "      fill: #D2E3FC;\n",
              "    }\n",
              "\n",
              "    [theme=dark] .colab-df-convert:hover {\n",
              "      background-color: #434B5C;\n",
              "      box-shadow: 0px 1px 3px 1px rgba(0, 0, 0, 0.15);\n",
              "      filter: drop-shadow(0px 1px 2px rgba(0, 0, 0, 0.3));\n",
              "      fill: #FFFFFF;\n",
              "    }\n",
              "  </style>\n",
              "\n",
              "      <script>\n",
              "        const buttonEl =\n",
              "          document.querySelector('#df-76059f30-a0f3-4e26-91f8-4eadb206cbd4 button.colab-df-convert');\n",
              "        buttonEl.style.display =\n",
              "          google.colab.kernel.accessAllowed ? 'block' : 'none';\n",
              "\n",
              "        async function convertToInteractive(key) {\n",
              "          const element = document.querySelector('#df-76059f30-a0f3-4e26-91f8-4eadb206cbd4');\n",
              "          const dataTable =\n",
              "            await google.colab.kernel.invokeFunction('convertToInteractive',\n",
              "                                                     [key], {});\n",
              "          if (!dataTable) return;\n",
              "\n",
              "          const docLinkHtml = 'Like what you see? Visit the ' +\n",
              "            '<a target=\"_blank\" href=https://colab.research.google.com/notebooks/data_table.ipynb>data table notebook</a>'\n",
              "            + ' to learn more about interactive tables.';\n",
              "          element.innerHTML = '';\n",
              "          dataTable['output_type'] = 'display_data';\n",
              "          await google.colab.output.renderOutput(dataTable, element);\n",
              "          const docLink = document.createElement('div');\n",
              "          docLink.innerHTML = docLinkHtml;\n",
              "          element.appendChild(docLink);\n",
              "        }\n",
              "      </script>\n",
              "    </div>\n",
              "  </div>\n",
              "  "
            ]
          },
          "metadata": {},
          "execution_count": 20
        }
      ]
    },
    {
      "cell_type": "code",
      "source": [],
      "metadata": {
        "id": "zShwerpJlfmj"
      },
      "execution_count": null,
      "outputs": []
    }
  ]
}